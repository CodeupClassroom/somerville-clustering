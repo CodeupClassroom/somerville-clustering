{
 "cells": [
  {
   "cell_type": "code",
   "execution_count": 1,
   "id": "0831d8df",
   "metadata": {},
   "outputs": [
    {
     "data": {
      "application/javascript": [
       "IPython.notebook.set_autosave_interval(0)"
      ]
     },
     "metadata": {},
     "output_type": "display_data"
    },
    {
     "name": "stdout",
     "output_type": "stream",
     "text": [
      "Autosave disabled\n"
     ]
    }
   ],
   "source": [
    "%autosave 0"
   ]
  },
  {
   "cell_type": "code",
   "execution_count": 2,
   "id": "305da091",
   "metadata": {},
   "outputs": [],
   "source": [
    "import pandas as pd\n",
    "import numpy as np\n",
    "\n",
    "import matplotlib.pyplot as plt\n",
    "import seaborn as sns"
   ]
  },
  {
   "cell_type": "markdown",
   "id": "5a8244b7",
   "metadata": {},
   "source": [
    "Let's read in the penguin csv and take a peek at the columns."
   ]
  },
  {
   "cell_type": "code",
   "execution_count": 3,
   "id": "310293b1",
   "metadata": {},
   "outputs": [
    {
     "data": {
      "text/html": [
       "<div>\n",
       "<style scoped>\n",
       "    .dataframe tbody tr th:only-of-type {\n",
       "        vertical-align: middle;\n",
       "    }\n",
       "\n",
       "    .dataframe tbody tr th {\n",
       "        vertical-align: top;\n",
       "    }\n",
       "\n",
       "    .dataframe thead th {\n",
       "        text-align: right;\n",
       "    }\n",
       "</style>\n",
       "<table border=\"1\" class=\"dataframe\">\n",
       "  <thead>\n",
       "    <tr style=\"text-align: right;\">\n",
       "      <th></th>\n",
       "      <th>studyName</th>\n",
       "      <th>Sample Number</th>\n",
       "      <th>Species</th>\n",
       "      <th>Region</th>\n",
       "      <th>Island</th>\n",
       "      <th>Stage</th>\n",
       "      <th>Individual ID</th>\n",
       "      <th>Clutch Completion</th>\n",
       "      <th>Date Egg</th>\n",
       "      <th>Culmen Length (mm)</th>\n",
       "      <th>Culmen Depth (mm)</th>\n",
       "      <th>Flipper Length (mm)</th>\n",
       "      <th>Body Mass (g)</th>\n",
       "      <th>Sex</th>\n",
       "      <th>Delta 15 N (o/oo)</th>\n",
       "      <th>Delta 13 C (o/oo)</th>\n",
       "      <th>Comments</th>\n",
       "    </tr>\n",
       "  </thead>\n",
       "  <tbody>\n",
       "    <tr>\n",
       "      <th>0</th>\n",
       "      <td>PAL0708</td>\n",
       "      <td>1</td>\n",
       "      <td>Adelie Penguin (Pygoscelis adeliae)</td>\n",
       "      <td>Anvers</td>\n",
       "      <td>Torgersen</td>\n",
       "      <td>Adult, 1 Egg Stage</td>\n",
       "      <td>N1A1</td>\n",
       "      <td>Yes</td>\n",
       "      <td>2007-11-11</td>\n",
       "      <td>39.1</td>\n",
       "      <td>18.7</td>\n",
       "      <td>181.0</td>\n",
       "      <td>3750.0</td>\n",
       "      <td>MALE</td>\n",
       "      <td>NaN</td>\n",
       "      <td>NaN</td>\n",
       "      <td>Not enough blood for isotopes.</td>\n",
       "    </tr>\n",
       "    <tr>\n",
       "      <th>1</th>\n",
       "      <td>PAL0708</td>\n",
       "      <td>2</td>\n",
       "      <td>Adelie Penguin (Pygoscelis adeliae)</td>\n",
       "      <td>Anvers</td>\n",
       "      <td>Torgersen</td>\n",
       "      <td>Adult, 1 Egg Stage</td>\n",
       "      <td>N1A2</td>\n",
       "      <td>Yes</td>\n",
       "      <td>2007-11-11</td>\n",
       "      <td>39.5</td>\n",
       "      <td>17.4</td>\n",
       "      <td>186.0</td>\n",
       "      <td>3800.0</td>\n",
       "      <td>FEMALE</td>\n",
       "      <td>8.94956</td>\n",
       "      <td>-24.69454</td>\n",
       "      <td>NaN</td>\n",
       "    </tr>\n",
       "    <tr>\n",
       "      <th>2</th>\n",
       "      <td>PAL0708</td>\n",
       "      <td>3</td>\n",
       "      <td>Adelie Penguin (Pygoscelis adeliae)</td>\n",
       "      <td>Anvers</td>\n",
       "      <td>Torgersen</td>\n",
       "      <td>Adult, 1 Egg Stage</td>\n",
       "      <td>N2A1</td>\n",
       "      <td>Yes</td>\n",
       "      <td>2007-11-16</td>\n",
       "      <td>40.3</td>\n",
       "      <td>18.0</td>\n",
       "      <td>195.0</td>\n",
       "      <td>3250.0</td>\n",
       "      <td>FEMALE</td>\n",
       "      <td>8.36821</td>\n",
       "      <td>-25.33302</td>\n",
       "      <td>NaN</td>\n",
       "    </tr>\n",
       "    <tr>\n",
       "      <th>3</th>\n",
       "      <td>PAL0708</td>\n",
       "      <td>4</td>\n",
       "      <td>Adelie Penguin (Pygoscelis adeliae)</td>\n",
       "      <td>Anvers</td>\n",
       "      <td>Torgersen</td>\n",
       "      <td>Adult, 1 Egg Stage</td>\n",
       "      <td>N2A2</td>\n",
       "      <td>Yes</td>\n",
       "      <td>2007-11-16</td>\n",
       "      <td>NaN</td>\n",
       "      <td>NaN</td>\n",
       "      <td>NaN</td>\n",
       "      <td>NaN</td>\n",
       "      <td>NaN</td>\n",
       "      <td>NaN</td>\n",
       "      <td>NaN</td>\n",
       "      <td>Adult not sampled.</td>\n",
       "    </tr>\n",
       "    <tr>\n",
       "      <th>4</th>\n",
       "      <td>PAL0708</td>\n",
       "      <td>5</td>\n",
       "      <td>Adelie Penguin (Pygoscelis adeliae)</td>\n",
       "      <td>Anvers</td>\n",
       "      <td>Torgersen</td>\n",
       "      <td>Adult, 1 Egg Stage</td>\n",
       "      <td>N3A1</td>\n",
       "      <td>Yes</td>\n",
       "      <td>2007-11-16</td>\n",
       "      <td>36.7</td>\n",
       "      <td>19.3</td>\n",
       "      <td>193.0</td>\n",
       "      <td>3450.0</td>\n",
       "      <td>FEMALE</td>\n",
       "      <td>8.76651</td>\n",
       "      <td>-25.32426</td>\n",
       "      <td>NaN</td>\n",
       "    </tr>\n",
       "  </tbody>\n",
       "</table>\n",
       "</div>"
      ],
      "text/plain": [
       "  studyName  Sample Number                              Species  Region  \\\n",
       "0   PAL0708              1  Adelie Penguin (Pygoscelis adeliae)  Anvers   \n",
       "1   PAL0708              2  Adelie Penguin (Pygoscelis adeliae)  Anvers   \n",
       "2   PAL0708              3  Adelie Penguin (Pygoscelis adeliae)  Anvers   \n",
       "3   PAL0708              4  Adelie Penguin (Pygoscelis adeliae)  Anvers   \n",
       "4   PAL0708              5  Adelie Penguin (Pygoscelis adeliae)  Anvers   \n",
       "\n",
       "      Island               Stage Individual ID Clutch Completion    Date Egg  \\\n",
       "0  Torgersen  Adult, 1 Egg Stage          N1A1               Yes  2007-11-11   \n",
       "1  Torgersen  Adult, 1 Egg Stage          N1A2               Yes  2007-11-11   \n",
       "2  Torgersen  Adult, 1 Egg Stage          N2A1               Yes  2007-11-16   \n",
       "3  Torgersen  Adult, 1 Egg Stage          N2A2               Yes  2007-11-16   \n",
       "4  Torgersen  Adult, 1 Egg Stage          N3A1               Yes  2007-11-16   \n",
       "\n",
       "   Culmen Length (mm)  Culmen Depth (mm)  Flipper Length (mm)  Body Mass (g)  \\\n",
       "0                39.1               18.7                181.0         3750.0   \n",
       "1                39.5               17.4                186.0         3800.0   \n",
       "2                40.3               18.0                195.0         3250.0   \n",
       "3                 NaN                NaN                  NaN            NaN   \n",
       "4                36.7               19.3                193.0         3450.0   \n",
       "\n",
       "      Sex  Delta 15 N (o/oo)  Delta 13 C (o/oo)  \\\n",
       "0    MALE                NaN                NaN   \n",
       "1  FEMALE            8.94956          -24.69454   \n",
       "2  FEMALE            8.36821          -25.33302   \n",
       "3     NaN                NaN                NaN   \n",
       "4  FEMALE            8.76651          -25.32426   \n",
       "\n",
       "                         Comments  \n",
       "0  Not enough blood for isotopes.  \n",
       "1                             NaN  \n",
       "2                             NaN  \n",
       "3              Adult not sampled.  \n",
       "4                             NaN  "
      ]
     },
     "execution_count": 3,
     "metadata": {},
     "output_type": "execute_result"
    }
   ],
   "source": [
    "filename = 'penguin.csv'\n",
    "\n",
    "df = pd.read_csv(filename)\n",
    "df.head()"
   ]
  },
  {
   "cell_type": "markdown",
   "id": "c61de5a7",
   "metadata": {},
   "source": [
    "Those column names are a mess! Let's clean them up before we get going."
   ]
  },
  {
   "cell_type": "code",
   "execution_count": 4,
   "id": "e45f70b3",
   "metadata": {},
   "outputs": [
    {
     "data": {
      "text/html": [
       "<div>\n",
       "<style scoped>\n",
       "    .dataframe tbody tr th:only-of-type {\n",
       "        vertical-align: middle;\n",
       "    }\n",
       "\n",
       "    .dataframe tbody tr th {\n",
       "        vertical-align: top;\n",
       "    }\n",
       "\n",
       "    .dataframe thead th {\n",
       "        text-align: right;\n",
       "    }\n",
       "</style>\n",
       "<table border=\"1\" class=\"dataframe\">\n",
       "  <thead>\n",
       "    <tr style=\"text-align: right;\">\n",
       "      <th></th>\n",
       "      <th>studyname</th>\n",
       "      <th>sample_number</th>\n",
       "      <th>species</th>\n",
       "      <th>region</th>\n",
       "      <th>island</th>\n",
       "      <th>stage</th>\n",
       "      <th>individual_id</th>\n",
       "      <th>clutch_completion</th>\n",
       "      <th>date_egg</th>\n",
       "      <th>culmen_length_(mm)</th>\n",
       "      <th>culmen_depth_(mm)</th>\n",
       "      <th>flipper_length_(mm)</th>\n",
       "      <th>body_mass_(g)</th>\n",
       "      <th>sex</th>\n",
       "      <th>delta_15_n_(o/oo)</th>\n",
       "      <th>delta_13_c_(o/oo)</th>\n",
       "      <th>comments</th>\n",
       "    </tr>\n",
       "  </thead>\n",
       "  <tbody>\n",
       "    <tr>\n",
       "      <th>0</th>\n",
       "      <td>PAL0708</td>\n",
       "      <td>1</td>\n",
       "      <td>Adelie Penguin (Pygoscelis adeliae)</td>\n",
       "      <td>Anvers</td>\n",
       "      <td>Torgersen</td>\n",
       "      <td>Adult, 1 Egg Stage</td>\n",
       "      <td>N1A1</td>\n",
       "      <td>Yes</td>\n",
       "      <td>2007-11-11</td>\n",
       "      <td>39.1</td>\n",
       "      <td>18.7</td>\n",
       "      <td>181.0</td>\n",
       "      <td>3750.0</td>\n",
       "      <td>MALE</td>\n",
       "      <td>NaN</td>\n",
       "      <td>NaN</td>\n",
       "      <td>Not enough blood for isotopes.</td>\n",
       "    </tr>\n",
       "    <tr>\n",
       "      <th>1</th>\n",
       "      <td>PAL0708</td>\n",
       "      <td>2</td>\n",
       "      <td>Adelie Penguin (Pygoscelis adeliae)</td>\n",
       "      <td>Anvers</td>\n",
       "      <td>Torgersen</td>\n",
       "      <td>Adult, 1 Egg Stage</td>\n",
       "      <td>N1A2</td>\n",
       "      <td>Yes</td>\n",
       "      <td>2007-11-11</td>\n",
       "      <td>39.5</td>\n",
       "      <td>17.4</td>\n",
       "      <td>186.0</td>\n",
       "      <td>3800.0</td>\n",
       "      <td>FEMALE</td>\n",
       "      <td>8.94956</td>\n",
       "      <td>-24.69454</td>\n",
       "      <td>NaN</td>\n",
       "    </tr>\n",
       "    <tr>\n",
       "      <th>2</th>\n",
       "      <td>PAL0708</td>\n",
       "      <td>3</td>\n",
       "      <td>Adelie Penguin (Pygoscelis adeliae)</td>\n",
       "      <td>Anvers</td>\n",
       "      <td>Torgersen</td>\n",
       "      <td>Adult, 1 Egg Stage</td>\n",
       "      <td>N2A1</td>\n",
       "      <td>Yes</td>\n",
       "      <td>2007-11-16</td>\n",
       "      <td>40.3</td>\n",
       "      <td>18.0</td>\n",
       "      <td>195.0</td>\n",
       "      <td>3250.0</td>\n",
       "      <td>FEMALE</td>\n",
       "      <td>8.36821</td>\n",
       "      <td>-25.33302</td>\n",
       "      <td>NaN</td>\n",
       "    </tr>\n",
       "    <tr>\n",
       "      <th>3</th>\n",
       "      <td>PAL0708</td>\n",
       "      <td>4</td>\n",
       "      <td>Adelie Penguin (Pygoscelis adeliae)</td>\n",
       "      <td>Anvers</td>\n",
       "      <td>Torgersen</td>\n",
       "      <td>Adult, 1 Egg Stage</td>\n",
       "      <td>N2A2</td>\n",
       "      <td>Yes</td>\n",
       "      <td>2007-11-16</td>\n",
       "      <td>NaN</td>\n",
       "      <td>NaN</td>\n",
       "      <td>NaN</td>\n",
       "      <td>NaN</td>\n",
       "      <td>NaN</td>\n",
       "      <td>NaN</td>\n",
       "      <td>NaN</td>\n",
       "      <td>Adult not sampled.</td>\n",
       "    </tr>\n",
       "    <tr>\n",
       "      <th>4</th>\n",
       "      <td>PAL0708</td>\n",
       "      <td>5</td>\n",
       "      <td>Adelie Penguin (Pygoscelis adeliae)</td>\n",
       "      <td>Anvers</td>\n",
       "      <td>Torgersen</td>\n",
       "      <td>Adult, 1 Egg Stage</td>\n",
       "      <td>N3A1</td>\n",
       "      <td>Yes</td>\n",
       "      <td>2007-11-16</td>\n",
       "      <td>36.7</td>\n",
       "      <td>19.3</td>\n",
       "      <td>193.0</td>\n",
       "      <td>3450.0</td>\n",
       "      <td>FEMALE</td>\n",
       "      <td>8.76651</td>\n",
       "      <td>-25.32426</td>\n",
       "      <td>NaN</td>\n",
       "    </tr>\n",
       "  </tbody>\n",
       "</table>\n",
       "</div>"
      ],
      "text/plain": [
       "  studyname  sample_number                              species  region  \\\n",
       "0   PAL0708              1  Adelie Penguin (Pygoscelis adeliae)  Anvers   \n",
       "1   PAL0708              2  Adelie Penguin (Pygoscelis adeliae)  Anvers   \n",
       "2   PAL0708              3  Adelie Penguin (Pygoscelis adeliae)  Anvers   \n",
       "3   PAL0708              4  Adelie Penguin (Pygoscelis adeliae)  Anvers   \n",
       "4   PAL0708              5  Adelie Penguin (Pygoscelis adeliae)  Anvers   \n",
       "\n",
       "      island               stage individual_id clutch_completion    date_egg  \\\n",
       "0  Torgersen  Adult, 1 Egg Stage          N1A1               Yes  2007-11-11   \n",
       "1  Torgersen  Adult, 1 Egg Stage          N1A2               Yes  2007-11-11   \n",
       "2  Torgersen  Adult, 1 Egg Stage          N2A1               Yes  2007-11-16   \n",
       "3  Torgersen  Adult, 1 Egg Stage          N2A2               Yes  2007-11-16   \n",
       "4  Torgersen  Adult, 1 Egg Stage          N3A1               Yes  2007-11-16   \n",
       "\n",
       "   culmen_length_(mm)  culmen_depth_(mm)  flipper_length_(mm)  body_mass_(g)  \\\n",
       "0                39.1               18.7                181.0         3750.0   \n",
       "1                39.5               17.4                186.0         3800.0   \n",
       "2                40.3               18.0                195.0         3250.0   \n",
       "3                 NaN                NaN                  NaN            NaN   \n",
       "4                36.7               19.3                193.0         3450.0   \n",
       "\n",
       "      sex  delta_15_n_(o/oo)  delta_13_c_(o/oo)  \\\n",
       "0    MALE                NaN                NaN   \n",
       "1  FEMALE            8.94956          -24.69454   \n",
       "2  FEMALE            8.36821          -25.33302   \n",
       "3     NaN                NaN                NaN   \n",
       "4  FEMALE            8.76651          -25.32426   \n",
       "\n",
       "                         comments  \n",
       "0  Not enough blood for isotopes.  \n",
       "1                             NaN  \n",
       "2                             NaN  \n",
       "3              Adult not sampled.  \n",
       "4                             NaN  "
      ]
     },
     "execution_count": 4,
     "metadata": {},
     "output_type": "execute_result"
    }
   ],
   "source": [
    "df.columns = [col.lower().replace(' ', '_') for col in df.columns]\n",
    "df.head()"
   ]
  },
  {
   "cell_type": "markdown",
   "id": "dba24297",
   "metadata": {},
   "source": [
    "What's in our dataset?"
   ]
  },
  {
   "cell_type": "code",
   "execution_count": 5,
   "id": "e4385f6b",
   "metadata": {},
   "outputs": [
    {
     "name": "stdout",
     "output_type": "stream",
     "text": [
      "<class 'pandas.core.frame.DataFrame'>\n",
      "RangeIndex: 344 entries, 0 to 343\n",
      "Data columns (total 17 columns):\n",
      " #   Column               Non-Null Count  Dtype  \n",
      "---  ------               --------------  -----  \n",
      " 0   studyname            344 non-null    object \n",
      " 1   sample_number        344 non-null    int64  \n",
      " 2   species              344 non-null    object \n",
      " 3   region               344 non-null    object \n",
      " 4   island               344 non-null    object \n",
      " 5   stage                344 non-null    object \n",
      " 6   individual_id        344 non-null    object \n",
      " 7   clutch_completion    344 non-null    object \n",
      " 8   date_egg             344 non-null    object \n",
      " 9   culmen_length_(mm)   342 non-null    float64\n",
      " 10  culmen_depth_(mm)    342 non-null    float64\n",
      " 11  flipper_length_(mm)  342 non-null    float64\n",
      " 12  body_mass_(g)        342 non-null    float64\n",
      " 13  sex                  334 non-null    object \n",
      " 14  delta_15_n_(o/oo)    330 non-null    float64\n",
      " 15  delta_13_c_(o/oo)    331 non-null    float64\n",
      " 16  comments             54 non-null     object \n",
      "dtypes: float64(6), int64(1), object(10)\n",
      "memory usage: 45.8+ KB\n"
     ]
    }
   ],
   "source": [
    "df.info()"
   ]
  },
  {
   "cell_type": "markdown",
   "id": "bb0d4aed",
   "metadata": {},
   "source": [
    "I noticed a few null values in the dataset. It's hard to quantify from the .info(). How many nulls do we have total?"
   ]
  },
  {
   "cell_type": "code",
   "execution_count": 6,
   "id": "ab0f7080",
   "metadata": {},
   "outputs": [
    {
     "data": {
      "text/plain": [
       "studyname                0\n",
       "sample_number            0\n",
       "species                  0\n",
       "region                   0\n",
       "island                   0\n",
       "stage                    0\n",
       "individual_id            0\n",
       "clutch_completion        0\n",
       "date_egg                 0\n",
       "culmen_length_(mm)       2\n",
       "culmen_depth_(mm)        2\n",
       "flipper_length_(mm)      2\n",
       "body_mass_(g)            2\n",
       "sex                     10\n",
       "delta_15_n_(o/oo)       14\n",
       "delta_13_c_(o/oo)       13\n",
       "comments               290\n",
       "dtype: int64"
      ]
     },
     "execution_count": 6,
     "metadata": {},
     "output_type": "execute_result"
    }
   ],
   "source": [
    "df.isna().sum()"
   ]
  },
  {
   "cell_type": "markdown",
   "id": "2d32cc7e",
   "metadata": {},
   "source": [
    "That's an incredible number of nulls in the comments column. Let's take a peek at the column so see what's happening there."
   ]
  },
  {
   "cell_type": "code",
   "execution_count": 7,
   "id": "1a002dea",
   "metadata": {},
   "outputs": [
    {
     "data": {
      "text/plain": [
       "0           Not enough blood for isotopes.\n",
       "1                                      NaN\n",
       "2                                      NaN\n",
       "3                       Adult not sampled.\n",
       "4                                      NaN\n",
       "5                                      NaN\n",
       "6    Nest never observed with full clutch.\n",
       "7    Nest never observed with full clutch.\n",
       "8                No blood sample obtained.\n",
       "9     No blood sample obtained for sexing.\n",
       "Name: comments, dtype: object"
      ]
     },
     "execution_count": 7,
     "metadata": {},
     "output_type": "execute_result"
    }
   ],
   "source": [
    "df.comments[:10]"
   ]
  },
  {
   "cell_type": "markdown",
   "id": "8c648949",
   "metadata": {},
   "source": [
    "For the purpose of our project (clustering on physical characteristics of penguins), it doesn't look like this column will be useful. If I went ahead and dropped all null values, I would hardly have any observations left! Let's drop the column before continuing."
   ]
  },
  {
   "cell_type": "code",
   "execution_count": 8,
   "id": "93f3bb8b",
   "metadata": {},
   "outputs": [
    {
     "data": {
      "text/plain": [
       "studyname               0\n",
       "sample_number           0\n",
       "species                 0\n",
       "region                  0\n",
       "island                  0\n",
       "stage                   0\n",
       "individual_id           0\n",
       "clutch_completion       0\n",
       "date_egg                0\n",
       "culmen_length_(mm)      2\n",
       "culmen_depth_(mm)       2\n",
       "flipper_length_(mm)     2\n",
       "body_mass_(g)           2\n",
       "sex                    10\n",
       "delta_15_n_(o/oo)      14\n",
       "delta_13_c_(o/oo)      13\n",
       "dtype: int64"
      ]
     },
     "execution_count": 8,
     "metadata": {},
     "output_type": "execute_result"
    }
   ],
   "source": [
    "df = df.drop(columns=['comments'])\n",
    "df.isna().sum()"
   ]
  },
  {
   "cell_type": "markdown",
   "id": "89078d08",
   "metadata": {},
   "source": [
    "Now that the problematic column is out of the way, let's drop remaining observations with null values."
   ]
  },
  {
   "cell_type": "code",
   "execution_count": 9,
   "id": "a52f85a1",
   "metadata": {},
   "outputs": [
    {
     "data": {
      "text/plain": [
       "studyname              0\n",
       "sample_number          0\n",
       "species                0\n",
       "region                 0\n",
       "island                 0\n",
       "stage                  0\n",
       "individual_id          0\n",
       "clutch_completion      0\n",
       "date_egg               0\n",
       "culmen_length_(mm)     0\n",
       "culmen_depth_(mm)      0\n",
       "flipper_length_(mm)    0\n",
       "body_mass_(g)          0\n",
       "sex                    0\n",
       "delta_15_n_(o/oo)      0\n",
       "delta_13_c_(o/oo)      0\n",
       "dtype: int64"
      ]
     },
     "execution_count": 9,
     "metadata": {},
     "output_type": "execute_result"
    }
   ],
   "source": [
    "df = df.dropna()\n",
    "df.isna().sum()"
   ]
  },
  {
   "cell_type": "markdown",
   "id": "751b47c9",
   "metadata": {},
   "source": [
    "We have a clean dataset! Let's look at the value counts for our categorical columns."
   ]
  },
  {
   "cell_type": "code",
   "execution_count": 10,
   "id": "04c72ca2",
   "metadata": {
    "scrolled": false
   },
   "outputs": [
    {
     "name": "stdout",
     "output_type": "stream",
     "text": [
      "PAL0910    117\n",
      "PAL0809    113\n",
      "PAL0708     95\n",
      "Name: studyname, dtype: int64\n",
      "\n",
      "--------------------\n",
      "\n",
      "Adelie Penguin (Pygoscelis adeliae)          139\n",
      "Gentoo penguin (Pygoscelis papua)            119\n",
      "Chinstrap penguin (Pygoscelis antarctica)     67\n",
      "Name: species, dtype: int64\n",
      "\n",
      "--------------------\n",
      "\n",
      "Anvers    325\n",
      "Name: region, dtype: int64\n",
      "\n",
      "--------------------\n",
      "\n",
      "Biscoe       163\n",
      "Dream        119\n",
      "Torgersen     43\n",
      "Name: island, dtype: int64\n",
      "\n",
      "--------------------\n",
      "\n",
      "Adult, 1 Egg Stage    325\n",
      "Name: stage, dtype: int64\n",
      "\n",
      "--------------------\n",
      "\n",
      "N69A1    3\n",
      "N22A2    3\n",
      "N23A2    3\n",
      "N24A2    3\n",
      "N28A1    3\n",
      "        ..\n",
      "N68A1    1\n",
      "N26A1    1\n",
      "N84A2    1\n",
      "N84A1    1\n",
      "N43A2    1\n",
      "Name: individual_id, Length: 188, dtype: int64\n",
      "\n",
      "--------------------\n",
      "\n",
      "Yes    291\n",
      "No      34\n",
      "Name: clutch_completion, dtype: int64\n",
      "\n",
      "--------------------\n",
      "\n",
      "2007-11-27    18\n",
      "2008-11-09    15\n",
      "2009-11-18    14\n",
      "2007-11-16    13\n",
      "2008-11-13    12\n",
      "2008-11-04    12\n",
      "2008-11-06    12\n",
      "2009-11-21    12\n",
      "2009-11-15    10\n",
      "2009-11-22    10\n",
      "2009-11-16    10\n",
      "2008-11-14    10\n",
      "2009-11-17    10\n",
      "2009-11-27     9\n",
      "2008-11-24     8\n",
      "2008-11-08     8\n",
      "2007-11-28     8\n",
      "2007-11-12     8\n",
      "2007-11-29     8\n",
      "2008-11-03     8\n",
      "2007-12-03     6\n",
      "2009-11-23     6\n",
      "2009-11-25     6\n",
      "2009-12-01     6\n",
      "2008-11-02     6\n",
      "2009-11-20     6\n",
      "2007-11-30     4\n",
      "2007-11-09     4\n",
      "2008-11-11     4\n",
      "2008-11-25     4\n",
      "2007-11-21     4\n",
      "2007-11-19     4\n",
      "2007-11-26     4\n",
      "2009-11-13     4\n",
      "2009-11-10     4\n",
      "2008-11-17     4\n",
      "2007-11-10     4\n",
      "2009-11-09     4\n",
      "2008-11-15     4\n",
      "2007-11-13     3\n",
      "2007-11-18     2\n",
      "2007-11-15     2\n",
      "2009-11-12     2\n",
      "2009-11-19     2\n",
      "2007-11-22     2\n",
      "2008-11-07     2\n",
      "2009-11-14     2\n",
      "2008-11-05     2\n",
      "2008-11-10     2\n",
      "2007-11-11     1\n",
      "Name: date_egg, dtype: int64\n",
      "\n",
      "--------------------\n",
      "\n",
      "FEMALE    163\n",
      "MALE      161\n",
      ".           1\n",
      "Name: sex, dtype: int64\n",
      "\n",
      "--------------------\n",
      "\n"
     ]
    }
   ],
   "source": [
    "for col in df.columns[df.dtypes == 'object']:\n",
    "    print(df[col].value_counts())\n",
    "    print()\n",
    "    print('--------------------')\n",
    "    print()"
   ]
  },
  {
   "cell_type": "markdown",
   "id": "9e833e5e",
   "metadata": {},
   "source": [
    "Now let's take a look at the continuous features. We will use these for clustering in later lessons!"
   ]
  },
  {
   "cell_type": "code",
   "execution_count": 11,
   "id": "a1a5ec4a",
   "metadata": {
    "scrolled": false
   },
   "outputs": [
    {
     "data": {
      "image/png": "[encoded data removed]",
      "text/plain": [
       "<Figure size 640x480 with 1 Axes>"
      ]
     },
     "metadata": {},
     "output_type": "display_data"
    },
    {
     "data": {
      "image/png": "[encoded data removed]",
      "text/plain": [
       "<Figure size 640x480 with 1 Axes>"
      ]
     },
     "metadata": {},
     "output_type": "display_data"
    },
    {
     "data": {
      "image/png": "[encoded data removed]",
      "text/plain": [
       "<Figure size 640x480 with 1 Axes>"
      ]
     },
     "metadata": {},
     "output_type": "display_data"
    },
    {
     "data": {
      "image/png": "[encoded data removed]",
      "text/plain": [
       "<Figure size 640x480 with 1 Axes>"
      ]
     },
     "metadata": {},
     "output_type": "display_data"
    },
    {
     "data": {
      "image/png": "[encoded data removed]",
      "text/plain": [
       "<Figure size 640x480 with 1 Axes>"
      ]
     },
     "metadata": {},
     "output_type": "display_data"
    },
    {
     "data": {
      "image/png": "[encoded data removed]",
      "text/plain": [
       "<Figure size 640x480 with 1 Axes>"
      ]
     },
     "metadata": {},
     "output_type": "display_data"
    }
   ],
   "source": [
    "for col in df.columns[df.dtypes == 'float64']:\n",
    "    plt.figure()\n",
    "    plt.title(f'Distribution of {col}')\n",
    "    sns.histplot(data=df, x=col)\n",
    "    plt.show()"
   ]
  },
  {
   "cell_type": "markdown",
   "id": "e2d284bc",
   "metadata": {},
   "source": [
    "Let's calculate the IQR for one specific column."
   ]
  },
  {
   "cell_type": "code",
   "execution_count": 12,
   "id": "1913e99f",
   "metadata": {},
   "outputs": [],
   "source": [
    "q1, q3 = df['culmen_length_(mm)'].quantile([0.25, 0.75])\n",
    "iqr = q3 - q1"
   ]
  },
  {
   "cell_type": "markdown",
   "id": "9ad0c6fa",
   "metadata": {},
   "source": [
    "Let's take a peek at the IQR. 50% of this column's values fall within this range."
   ]
  },
  {
   "cell_type": "code",
   "execution_count": 13,
   "id": "5f9f3ec9",
   "metadata": {},
   "outputs": [
    {
     "data": {
      "text/plain": [
       "9.200000000000003"
      ]
     },
     "execution_count": 13,
     "metadata": {},
     "output_type": "execute_result"
    }
   ],
   "source": [
    "iqr"
   ]
  },
  {
   "cell_type": "markdown",
   "id": "d3e02179",
   "metadata": {},
   "source": [
    "Using the IQR, we can calculate the upper and lower fences for outliers."
   ]
  },
  {
   "cell_type": "code",
   "execution_count": 14,
   "id": "c9552221",
   "metadata": {},
   "outputs": [
    {
     "data": {
      "text/plain": [
       "(25.699999999999996, 62.50000000000001)"
      ]
     },
     "execution_count": 14,
     "metadata": {},
     "output_type": "execute_result"
    }
   ],
   "source": [
    "lower_bound = q1 - iqr * 1.5\n",
    "upper_bound = q3 + iqr * 1.5\n",
    "lower_bound, upper_bound"
   ]
  },
  {
   "cell_type": "markdown",
   "id": "7a3bc1e4",
   "metadata": {},
   "source": [
    "Using my favorite np.where(), we can determine if there are any outliers in this specific column."
   ]
  },
  {
   "cell_type": "code",
   "execution_count": 15,
   "id": "8b2c9f6b",
   "metadata": {},
   "outputs": [
    {
     "data": {
      "text/plain": [
       "array([0, 0, 0, 0, 0, 0, 0, 0, 0, 0, 0, 0, 0, 0, 0, 0, 0, 0, 0, 0, 0, 0,\n",
       "       0, 0, 0, 0, 0, 0, 0, 0, 0, 0, 0, 0, 0, 0, 0, 0, 0, 0, 0, 0, 0, 0,\n",
       "       0, 0, 0, 0, 0, 0, 0, 0, 0, 0, 0, 0, 0, 0, 0, 0, 0, 0, 0, 0, 0, 0,\n",
       "       0, 0, 0, 0, 0, 0, 0, 0, 0, 0, 0, 0, 0, 0, 0, 0, 0, 0, 0, 0, 0, 0,\n",
       "       0, 0, 0, 0, 0, 0, 0, 0, 0, 0, 0, 0, 0, 0, 0, 0, 0, 0, 0, 0, 0, 0,\n",
       "       0, 0, 0, 0, 0, 0, 0, 0, 0, 0, 0, 0, 0, 0, 0, 0, 0, 0, 0, 0, 0, 0,\n",
       "       0, 0, 0, 0, 0, 0, 0, 0, 0, 0, 0, 0, 0, 0, 0, 0, 0, 0, 0, 0, 0, 0,\n",
       "       0, 0, 0, 0, 0, 0, 0, 0, 0, 0, 0, 0, 0, 0, 0, 0, 0, 0, 0, 0, 0, 0,\n",
       "       0, 0, 0, 0, 0, 0, 0, 0, 0, 0, 0, 0, 0, 0, 0, 0, 0, 0, 0, 0, 0, 0,\n",
       "       0, 0, 0, 0, 0, 0, 0, 0, 0, 0, 0, 0, 0, 0, 0, 0, 0, 0, 0, 0, 0, 0,\n",
       "       0, 0, 0, 0, 0, 0, 0, 0, 0, 0, 0, 0, 0, 0, 0, 0, 0, 0, 0, 0, 0, 0,\n",
       "       0, 0, 0, 0, 0, 0, 0, 0, 0, 0, 0, 0, 0, 0, 0, 0, 0, 0, 0, 0, 0, 0,\n",
       "       0, 0, 0, 0, 0, 0, 0, 0, 0, 0, 0, 0, 0, 0, 0, 0, 0, 0, 0, 0, 0, 0,\n",
       "       0, 0, 0, 0, 0, 0, 0, 0, 0, 0, 0, 0, 0, 0, 0, 0, 0, 0, 0, 0, 0, 0,\n",
       "       0, 0, 0, 0, 0, 0, 0, 0, 0, 0, 0, 0, 0, 0, 0, 0, 0])"
      ]
     },
     "execution_count": 15,
     "metadata": {},
     "output_type": "execute_result"
    }
   ],
   "source": [
    "np.where((df['culmen_length_(mm)'] > upper_bound) | (df['culmen_length_(mm)'] < lower_bound), 1, 0)"
   ]
  },
  {
   "cell_type": "markdown",
   "id": "f53e4af4",
   "metadata": {},
   "source": [
    "If I wanted to repeat this operation across multiple columns.. What could I do?"
   ]
  },
  {
   "cell_type": "code",
   "execution_count": 16,
   "id": "ba8abcc3",
   "metadata": {},
   "outputs": [],
   "source": [
    "def identify_outliers(col, k=1.5):\n",
    "    \n",
    "    q1, q3 = col.quantile([0.25, 0.75])\n",
    "    \n",
    "    iqr = q3 - q1\n",
    "    \n",
    "    lower_fence = q1 - iqr * k\n",
    "    upper_fence = q3 + iqr * k\n",
    "    \n",
    "    return np.where((col < lower_fence) | (col > upper_fence), 1, 0)"
   ]
  },
  {
   "cell_type": "code",
   "execution_count": 17,
   "id": "1a06b2af",
   "metadata": {},
   "outputs": [
    {
     "data": {
      "text/html": [
       "<div>\n",
       "<style scoped>\n",
       "    .dataframe tbody tr th:only-of-type {\n",
       "        vertical-align: middle;\n",
       "    }\n",
       "\n",
       "    .dataframe tbody tr th {\n",
       "        vertical-align: top;\n",
       "    }\n",
       "\n",
       "    .dataframe thead th {\n",
       "        text-align: right;\n",
       "    }\n",
       "</style>\n",
       "<table border=\"1\" class=\"dataframe\">\n",
       "  <thead>\n",
       "    <tr style=\"text-align: right;\">\n",
       "      <th></th>\n",
       "      <th>studyname</th>\n",
       "      <th>sample_number</th>\n",
       "      <th>species</th>\n",
       "      <th>region</th>\n",
       "      <th>island</th>\n",
       "      <th>stage</th>\n",
       "      <th>individual_id</th>\n",
       "      <th>clutch_completion</th>\n",
       "      <th>date_egg</th>\n",
       "      <th>culmen_length_(mm)</th>\n",
       "      <th>...</th>\n",
       "      <th>body_mass_(g)</th>\n",
       "      <th>sex</th>\n",
       "      <th>delta_15_n_(o/oo)</th>\n",
       "      <th>delta_13_c_(o/oo)</th>\n",
       "      <th>culmen_length_(mm)_outliers</th>\n",
       "      <th>culmen_depth_(mm)_outliers</th>\n",
       "      <th>flipper_length_(mm)_outliers</th>\n",
       "      <th>body_mass_(g)_outliers</th>\n",
       "      <th>delta_15_n_(o/oo)_outliers</th>\n",
       "      <th>delta_13_c_(o/oo)_outliers</th>\n",
       "    </tr>\n",
       "  </thead>\n",
       "  <tbody>\n",
       "    <tr>\n",
       "      <th>1</th>\n",
       "      <td>PAL0708</td>\n",
       "      <td>2</td>\n",
       "      <td>Adelie Penguin (Pygoscelis adeliae)</td>\n",
       "      <td>Anvers</td>\n",
       "      <td>Torgersen</td>\n",
       "      <td>Adult, 1 Egg Stage</td>\n",
       "      <td>N1A2</td>\n",
       "      <td>Yes</td>\n",
       "      <td>2007-11-11</td>\n",
       "      <td>39.5</td>\n",
       "      <td>...</td>\n",
       "      <td>3800.0</td>\n",
       "      <td>FEMALE</td>\n",
       "      <td>8.94956</td>\n",
       "      <td>-24.69454</td>\n",
       "      <td>0</td>\n",
       "      <td>0</td>\n",
       "      <td>0</td>\n",
       "      <td>0</td>\n",
       "      <td>0</td>\n",
       "      <td>0</td>\n",
       "    </tr>\n",
       "    <tr>\n",
       "      <th>2</th>\n",
       "      <td>PAL0708</td>\n",
       "      <td>3</td>\n",
       "      <td>Adelie Penguin (Pygoscelis adeliae)</td>\n",
       "      <td>Anvers</td>\n",
       "      <td>Torgersen</td>\n",
       "      <td>Adult, 1 Egg Stage</td>\n",
       "      <td>N2A1</td>\n",
       "      <td>Yes</td>\n",
       "      <td>2007-11-16</td>\n",
       "      <td>40.3</td>\n",
       "      <td>...</td>\n",
       "      <td>3250.0</td>\n",
       "      <td>FEMALE</td>\n",
       "      <td>8.36821</td>\n",
       "      <td>-25.33302</td>\n",
       "      <td>0</td>\n",
       "      <td>0</td>\n",
       "      <td>0</td>\n",
       "      <td>0</td>\n",
       "      <td>0</td>\n",
       "      <td>0</td>\n",
       "    </tr>\n",
       "    <tr>\n",
       "      <th>4</th>\n",
       "      <td>PAL0708</td>\n",
       "      <td>5</td>\n",
       "      <td>Adelie Penguin (Pygoscelis adeliae)</td>\n",
       "      <td>Anvers</td>\n",
       "      <td>Torgersen</td>\n",
       "      <td>Adult, 1 Egg Stage</td>\n",
       "      <td>N3A1</td>\n",
       "      <td>Yes</td>\n",
       "      <td>2007-11-16</td>\n",
       "      <td>36.7</td>\n",
       "      <td>...</td>\n",
       "      <td>3450.0</td>\n",
       "      <td>FEMALE</td>\n",
       "      <td>8.76651</td>\n",
       "      <td>-25.32426</td>\n",
       "      <td>0</td>\n",
       "      <td>0</td>\n",
       "      <td>0</td>\n",
       "      <td>0</td>\n",
       "      <td>0</td>\n",
       "      <td>0</td>\n",
       "    </tr>\n",
       "    <tr>\n",
       "      <th>5</th>\n",
       "      <td>PAL0708</td>\n",
       "      <td>6</td>\n",
       "      <td>Adelie Penguin (Pygoscelis adeliae)</td>\n",
       "      <td>Anvers</td>\n",
       "      <td>Torgersen</td>\n",
       "      <td>Adult, 1 Egg Stage</td>\n",
       "      <td>N3A2</td>\n",
       "      <td>Yes</td>\n",
       "      <td>2007-11-16</td>\n",
       "      <td>39.3</td>\n",
       "      <td>...</td>\n",
       "      <td>3650.0</td>\n",
       "      <td>MALE</td>\n",
       "      <td>8.66496</td>\n",
       "      <td>-25.29805</td>\n",
       "      <td>0</td>\n",
       "      <td>0</td>\n",
       "      <td>0</td>\n",
       "      <td>0</td>\n",
       "      <td>0</td>\n",
       "      <td>0</td>\n",
       "    </tr>\n",
       "    <tr>\n",
       "      <th>6</th>\n",
       "      <td>PAL0708</td>\n",
       "      <td>7</td>\n",
       "      <td>Adelie Penguin (Pygoscelis adeliae)</td>\n",
       "      <td>Anvers</td>\n",
       "      <td>Torgersen</td>\n",
       "      <td>Adult, 1 Egg Stage</td>\n",
       "      <td>N4A1</td>\n",
       "      <td>No</td>\n",
       "      <td>2007-11-15</td>\n",
       "      <td>38.9</td>\n",
       "      <td>...</td>\n",
       "      <td>3625.0</td>\n",
       "      <td>FEMALE</td>\n",
       "      <td>9.18718</td>\n",
       "      <td>-25.21799</td>\n",
       "      <td>0</td>\n",
       "      <td>0</td>\n",
       "      <td>0</td>\n",
       "      <td>0</td>\n",
       "      <td>0</td>\n",
       "      <td>0</td>\n",
       "    </tr>\n",
       "  </tbody>\n",
       "</table>\n",
       "<p>5 rows × 22 columns</p>\n",
       "</div>"
      ],
      "text/plain": [
       "  studyname  sample_number                              species  region  \\\n",
       "1   PAL0708              2  Adelie Penguin (Pygoscelis adeliae)  Anvers   \n",
       "2   PAL0708              3  Adelie Penguin (Pygoscelis adeliae)  Anvers   \n",
       "4   PAL0708              5  Adelie Penguin (Pygoscelis adeliae)  Anvers   \n",
       "5   PAL0708              6  Adelie Penguin (Pygoscelis adeliae)  Anvers   \n",
       "6   PAL0708              7  Adelie Penguin (Pygoscelis adeliae)  Anvers   \n",
       "\n",
       "      island               stage individual_id clutch_completion    date_egg  \\\n",
       "1  Torgersen  Adult, 1 Egg Stage          N1A2               Yes  2007-11-11   \n",
       "2  Torgersen  Adult, 1 Egg Stage          N2A1               Yes  2007-11-16   \n",
       "4  Torgersen  Adult, 1 Egg Stage          N3A1               Yes  2007-11-16   \n",
       "5  Torgersen  Adult, 1 Egg Stage          N3A2               Yes  2007-11-16   \n",
       "6  Torgersen  Adult, 1 Egg Stage          N4A1                No  2007-11-15   \n",
       "\n",
       "   culmen_length_(mm)  ...  body_mass_(g)     sex  delta_15_n_(o/oo)  \\\n",
       "1                39.5  ...         3800.0  FEMALE            8.94956   \n",
       "2                40.3  ...         3250.0  FEMALE            8.36821   \n",
       "4                36.7  ...         3450.0  FEMALE            8.76651   \n",
       "5                39.3  ...         3650.0    MALE            8.66496   \n",
       "6                38.9  ...         3625.0  FEMALE            9.18718   \n",
       "\n",
       "  delta_13_c_(o/oo)  culmen_length_(mm)_outliers  culmen_depth_(mm)_outliers  \\\n",
       "1         -24.69454                            0                           0   \n",
       "2         -25.33302                            0                           0   \n",
       "4         -25.32426                            0                           0   \n",
       "5         -25.29805                            0                           0   \n",
       "6         -25.21799                            0                           0   \n",
       "\n",
       "   flipper_length_(mm)_outliers  body_mass_(g)_outliers  \\\n",
       "1                             0                       0   \n",
       "2                             0                       0   \n",
       "4                             0                       0   \n",
       "5                             0                       0   \n",
       "6                             0                       0   \n",
       "\n",
       "   delta_15_n_(o/oo)_outliers  delta_13_c_(o/oo)_outliers  \n",
       "1                           0                           0  \n",
       "2                           0                           0  \n",
       "4                           0                           0  \n",
       "5                           0                           0  \n",
       "6                           0                           0  \n",
       "\n",
       "[5 rows x 22 columns]"
      ]
     },
     "execution_count": 17,
     "metadata": {},
     "output_type": "execute_result"
    }
   ],
   "source": [
    "for col in df.columns[df.dtypes == 'float64']:\n",
    "    \n",
    "    df[f'{col}_outliers'] = identify_outliers(df[col])\n",
    "    \n",
    "df.head()    "
   ]
  },
  {
   "cell_type": "code",
   "execution_count": 18,
   "id": "8051ae55",
   "metadata": {},
   "outputs": [
    {
     "data": {
      "text/plain": [
       "sample_number                     64.756923\n",
       "culmen_length_(mm)                44.054769\n",
       "culmen_depth_(mm)                 17.123077\n",
       "flipper_length_(mm)              201.264615\n",
       "body_mass_(g)                   4216.000000\n",
       "delta_15_n_(o/oo)                  8.737794\n",
       "delta_13_c_(o/oo)                -25.690217\n",
       "culmen_length_(mm)_outliers        0.000000\n",
       "culmen_depth_(mm)_outliers         0.000000\n",
       "flipper_length_(mm)_outliers       0.000000\n",
       "body_mass_(g)_outliers             0.000000\n",
       "delta_15_n_(o/oo)_outliers         0.000000\n",
       "delta_13_c_(o/oo)_outliers         0.000000\n",
       "dtype: float64"
      ]
     },
     "execution_count": 18,
     "metadata": {},
     "output_type": "execute_result"
    }
   ],
   "source": [
    "df.mean(numeric_only=True)"
   ]
  },
  {
   "cell_type": "code",
   "execution_count": null,
   "id": "4c5e4dc1",
   "metadata": {},
   "outputs": [],
   "source": []
  }
 ],
 "metadata": {
  "kernelspec": {
   "display_name": "Python 3 (ipykernel)",
   "language": "python",
   "name": "python3"
  },
  "language_info": {
   "codemirror_mode": {
    "name": "ipython",
    "version": 3
   },
   "file_extension": ".py",
   "mimetype": "text/x-python",
   "name": "python",
   "nbconvert_exporter": "python",
   "pygments_lexer": "ipython3",
   "version": "3.9.17"
  }
 },
 "nbformat": 4,
 "nbformat_minor": 5
}
